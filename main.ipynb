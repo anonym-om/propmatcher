{
 "cells": [
  {
   "cell_type": "code",
   "execution_count": null,
   "metadata": {
    "ExecuteTime": {
     "end_time": "2023-05-05T16:58:30.285996286Z",
     "start_time": "2023-05-05T16:58:27.520729058Z"
    }
   },
   "outputs": [],
   "source": [
    "from sentence_transformers import SentenceTransformer\n",
    "from models import Finbank\n",
    "import random\n",
    "import torch\n",
    "import numpy as np\n",
    "from property_matching import PropertyMatcher\n",
    "from tqdm.auto import tqdm\n",
    "from property_matching import most_common_pair\n",
    "import matplotlib.pyplot as plt\n",
    "torch.manual_seed(0)\n",
    "random.seed(0)\n",
    "np.random.seed(0)"
   ]
  },
  {
   "attachments": {},
   "cell_type": "markdown",
   "metadata": {},
   "source": [
    "Download embeddings at:\n",
    "http://dl.turkunlp.org/finnish-embeddings/finnish_4B_parsebank_skgram.bin"
   ]
  },
  {
   "cell_type": "code",
   "execution_count": null,
   "metadata": {},
   "outputs": [],
   "source": [
    "!wget -O fin.bin http://dl.turkunlp.org/finnish-embeddings/finnish_4B_parsebank_skgram.bin"
   ]
  },
  {
   "cell_type": "code",
   "execution_count": null,
   "metadata": {
    "ExecuteTime": {
     "end_time": "2023-05-05T16:58:33.643656486Z",
     "start_time": "2023-05-05T16:58:30.289546804Z"
    }
   },
   "outputs": [],
   "source": [
    "wm = Finbank('fin.bin')\n",
    "model = SentenceTransformer('sentence-transformers/all-MiniLM-L6-v2')\n",
    "property_matcher = PropertyMatcher(wm, model)"
   ]
  },
  {
   "attachments": {},
   "cell_type": "markdown",
   "metadata": {},
   "source": [
    "# Evaluation in Conference\n",
    "\n",
    "Ontologies used can be found in the address: http://oaei.ontologymatching.org/2022/conference/data/conference.zip\n",
    "And the reference alignments in: http://oaei.ontologymatching.org/2022/conference/data/reference-alignment.zip"
   ]
  },
  {
   "cell_type": "code",
   "execution_count": null,
   "metadata": {
    "ExecuteTime": {
     "end_time": "2023-05-04T23:11:23.647059226Z",
     "start_time": "2023-05-04T23:08:45.535290656Z"
    }
   },
   "outputs": [],
   "source": [
    "results = property_matcher.match('conference', 'reference', th=0.65)"
   ]
  },
  {
   "cell_type": "code",
   "execution_count": null,
   "metadata": {
    "ExecuteTime": {
     "end_time": "2023-05-04T23:13:14.075532740Z",
     "start_time": "2023-05-04T23:13:13.788604059Z"
    }
   },
   "outputs": [],
   "source": [
    "p, r, f = zip(*results)\n",
    "\n",
    "x = np.arange(0.0, 1, 0.01)\n",
    "\n",
    "plt.plot(x, p, label=\"precision\")\n",
    "plt.plot(x, r, label=\"recall\")\n",
    "plt.plot(x, f, label=\"f-measure\")\n",
    "\n",
    "# draw vertical line in the x position containing the threshold that have the max f-measure\n",
    "plt.axvline(x[np.argmax(f)], color='black', linestyle='--', label=\"best threshold\")\n",
    "\n",
    "plt.legend()\n",
    "plt.show()"
   ]
  },
  {
   "attachments": {},
   "cell_type": "markdown",
   "metadata": {},
   "source": [
    "# Evaluation in Knowledge Graph\n",
    "\n",
    "Knowledge graphs and the reference alignments can be found at: http://oaei.ontologymatching.org/2022/knowledgegraph/index.html"
   ]
  },
  {
   "attachments": {},
   "cell_type": "markdown",
   "metadata": {},
   "source": [
    "Property only mode"
   ]
  },
  {
   "cell_type": "code",
   "execution_count": null,
   "metadata": {
    "ExecuteTime": {
     "end_time": "2023-05-04T23:12:44.231457768Z",
     "start_time": "2023-05-04T23:11:23.648701431Z"
    }
   },
   "outputs": [],
   "source": [
    "results = property_matcher.match('knowledge', 'know-reference',\n",
    "                       th=0.969, process_strategy=most_common_pair, steps=1, disable_dr=True)"
   ]
  },
  {
   "cell_type": "code",
   "execution_count": null,
   "metadata": {},
   "outputs": [],
   "source": [
    "p, r, f = zip(*results)\n",
    "\n",
    "x = np.arange(0.1, 1, 0.01)\n",
    "\n",
    "plt.plot(x, p, label=\"precision\")\n",
    "plt.plot(x, r, label=\"recall\")\n",
    "plt.plot(x, f, label=\"f-measure\")\n",
    "\n",
    "# draw vertical line in the x position containing the threshold that have the max f-measure\n",
    "plt.axvline(x[np.argmax(f)], color='black', linestyle='--', label=\"best threshold\")\n",
    "print(x[np.argmax(f)])\n",
    "plt.legend()\n",
    "plt.show()"
   ]
  },
  {
   "attachments": {},
   "cell_type": "markdown",
   "metadata": {},
   "source": [
    "Domain + Property"
   ]
  },
  {
   "cell_type": "code",
   "execution_count": null,
   "metadata": {},
   "outputs": [],
   "source": [
    "results = property_matcher.match('knowledge', 'know-reference',\n",
    "                       th=0.1, process_strategy=most_common_pair, steps=1, sim_weights=[0, 1], tr=[0.969])"
   ]
  },
  {
   "cell_type": "code",
   "execution_count": null,
   "metadata": {},
   "outputs": [],
   "source": [
    "p, r, f = zip(*results)\n",
    "\n",
    "x = np.arange(0.1, 1, 0.01)\n",
    "\n",
    "plt.plot(x, p, label=\"precision\")\n",
    "plt.plot(x, r, label=\"recall\")\n",
    "plt.plot(x, f, label=\"f-measure\")\n",
    "\n",
    "# draw vertical line in the x position containing the threshold that have the max f-measure\n",
    "plt.axvline(x[np.argmax(f)], color='black', linestyle='--', label=\"best threshold\")\n",
    "print(x[np.argmax(f)])\n",
    "plt.legend()\n",
    "plt.show()"
   ]
  },
  {
   "attachments": {},
   "cell_type": "markdown",
   "metadata": {},
   "source": [
    "Property + Range"
   ]
  },
  {
   "cell_type": "code",
   "execution_count": null,
   "metadata": {},
   "outputs": [],
   "source": [
    "\n",
    "\n",
    "results = property_matcher.match('knowledge', 'know-reference',\n",
    "                       th=0.979, process_strategy=most_common_pair, steps=1, sim_weights=[1, 2])"
   ]
  },
  {
   "cell_type": "code",
   "execution_count": null,
   "metadata": {},
   "outputs": [],
   "source": [
    "p, r, f = zip(*results)\n",
    "\n",
    "x = np.arange(0.1, 1, 0.01)\n",
    "\n",
    "plt.plot(x, p, label=\"precision\")\n",
    "plt.plot(x, r, label=\"recall\")\n",
    "plt.plot(x, f, label=\"f-measure\")\n",
    "\n",
    "plt.axvline(x[np.argmax(f)], color='black', linestyle='--', label=\"best threshold\")\n",
    "print(x[np.argmax(f)])\n",
    "plt.legend()\n",
    "plt.show()"
   ]
  },
  {
   "attachments": {},
   "cell_type": "markdown",
   "metadata": {},
   "source": [
    "Domain + Property + Range"
   ]
  },
  {
   "cell_type": "code",
   "execution_count": null,
   "metadata": {},
   "outputs": [],
   "source": [
    "\n",
    "\n",
    "results = property_matcher.match('knowledge', 'know-reference',\n",
    "                       th=0.569, process_strategy=most_common_pair, steps=1, sim_weights=[0, 1, 2])"
   ]
  },
  {
   "cell_type": "code",
   "execution_count": null,
   "metadata": {},
   "outputs": [],
   "source": [
    "p, r, f = zip(*results)\n",
    "\n",
    "x = np.arange(0.1, 1, 0.01)\n",
    "\n",
    "plt.plot(x, p, label=\"precision\")\n",
    "plt.plot(x, r, label=\"recall\")\n",
    "plt.plot(x, f, label=\"f-measure\")\n",
    "\n",
    "plt.axvline(x[np.argmax(f)], color='black', linestyle='--', label=\"best threshold\")\n",
    "print(x[np.argmax(f)])\n",
    "plt.legend()\n",
    "plt.show()"
   ]
  }
 ],
 "metadata": {
  "kernelspec": {
   "display_name": "Python 3 (ipykernel)",
   "language": "python",
   "name": "python3"
  },
  "language_info": {
   "codemirror_mode": {
    "name": "ipython",
    "version": 3
   },
   "file_extension": ".py",
   "mimetype": "text/x-python",
   "name": "python",
   "nbconvert_exporter": "python",
   "pygments_lexer": "ipython3",
   "version": "3.8.16"
  }
 },
 "nbformat": 4,
 "nbformat_minor": 1
}
